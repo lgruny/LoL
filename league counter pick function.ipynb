{
 "cells": [
  {
   "cell_type": "code",
   "execution_count": 1,
   "source": [
    "import pandas as pd\r\n",
    "from bs4 import BeautifulSoup\r\n",
    "import requests\r\n",
    "import urllib.request"
   ],
   "outputs": [],
   "metadata": {}
  },
  {
   "cell_type": "code",
   "execution_count": 2,
   "source": [
    "def get_champ_win_rate(name):\n",
    "    \n",
    "    result = requests.get(f\"https://na.op.gg/champion/{name}/statistics/top/matchup\",headers={'User-Agent': 'Mozilla/5.0'})\n",
    "    src = result.content\n",
    "    soup = BeautifulSoup(src,'lxml')\n",
    "    \n",
    "    #list of all span tags\n",
    "    spans = soup.find_all(\"span\")\n",
    "    \n",
    "    #converting above list to a list of strings\n",
    "    tags = []\n",
    "    for tag in spans:\n",
    "        tags.append(str(tag))\n",
    "        \n",
    "    #the win rate figures are only on lines with this string\n",
    "    win_rate = []\n",
    "    for tag in tags:\n",
    "        if \"champion-matchup-list__winrate\" in tag:\n",
    "            win_rate.append(tag)\n",
    "            \n",
    "    #the champion name is directly above the win rate figure line. so we are finding the win rate figure in tags, and then \n",
    "    #grabbing the above champion name in the tags list\n",
    "    champions = []\n",
    "    for win in win_rate:\n",
    "        champions.append(tags[tags.index(win) - 1])\n",
    "    \n",
    "    #cleaning up the line to just have the champion name\n",
    "    champions2 = []\n",
    "    for champ in champions:\n",
    "        champ = champ.replace('<span>','')\n",
    "        champ = champ.replace('</span>','')\n",
    "        champions2.append(champ)\n",
    "    \n",
    "    #cleaning up the line to just have the win rate\n",
    "    win_rate2 = []\n",
    "    for win in win_rate:\n",
    "        win = win.replace('<span class=\"champion-matchup-list__winrate\">','')\n",
    "        win = win.replace('\\n','')\n",
    "        win = win.replace('\\t','')\n",
    "        win = win.replace('</span>','')\n",
    "        win = win.replace('%','')\n",
    "        win_rate2.append(win)\n",
    "        \n",
    "    df = pd.DataFrame(win_rate2,champions2).reset_index()\n",
    "    \n",
    "    df = df.rename(columns={'index':'Champs',0:f\"{name}_Win_Rate\"})\n",
    "    df[f\"{name}_Win_Rate\"] = df[f\"{name}_Win_Rate\"].astype(float)/100\n",
    "    \n",
    "    return df\n",
    "\n",
    "def counter_pick(opponent,champ_pool=['Darius','Garen','Dr. Mundo','Mordekaiser','Fiora','Trundle']):\n",
    "    \n",
    "    #removing opponent if the opponent is in the champ_pool\n",
    "    if opponent in champ_pool:\n",
    "        champ_pool.remove(opponent)\n",
    "    \n",
    "    #creating a list of dataframes. each df is the win rates for all opponents with enough data\n",
    "    champ_df_list = []\n",
    "    for champ in champ_pool:\n",
    "        champ = get_champ_win_rate(champ)\n",
    "        champ_df_list.append(champ)\n",
    "    \n",
    "    #if an opponent doesn't appear in one of our df's because it's such an obscure opponent, we remove that df\n",
    "    for y in champ_df_list:\n",
    "        if y.loc[y.Champs==opponent].shape[0] == 0:\n",
    "            champ_df_list.remove(y)\n",
    "    \n",
    "    #creating one master dataframe of all the indivdual champ df's. \n",
    "    started = False        \n",
    "    for x in champ_df_list:\n",
    "        if not started:\n",
    "            df = x\n",
    "            started = True\n",
    "        else:\n",
    "            df = df.merge(x,how='inner',on='Champs')\n",
    "            \n",
    "    df = df.drop_duplicates()        \n",
    "    df = df.loc[df.Champs==opponent]\n",
    "    \n",
    "    return(df.set_index('Champs').transpose().sort_values(by=opponent,ascending=False))\n",
    "        "
   ],
   "outputs": [],
   "metadata": {}
  },
  {
   "cell_type": "code",
   "execution_count": 3,
   "source": [
    "counter_pick('Riven',champ_pool=['Darius','Garen','Dr. Mundo','Mordekaiser','Trundle','Pantheon'])"
   ],
   "outputs": [
    {
     "output_type": "execute_result",
     "data": {
      "text/plain": [
       "Champs                 Riven\n",
       "Garen_Win_Rate        0.5217\n",
       "Pantheon_Win_Rate     0.4889\n",
       "Trundle_Win_Rate      0.4833\n",
       "Darius_Win_Rate       0.4777\n",
       "Mordekaiser_Win_Rate  0.4699\n",
       "Dr. Mundo_Win_Rate    0.4587"
      ],
      "text/html": [
       "<div>\n",
       "<style scoped>\n",
       "    .dataframe tbody tr th:only-of-type {\n",
       "        vertical-align: middle;\n",
       "    }\n",
       "\n",
       "    .dataframe tbody tr th {\n",
       "        vertical-align: top;\n",
       "    }\n",
       "\n",
       "    .dataframe thead th {\n",
       "        text-align: right;\n",
       "    }\n",
       "</style>\n",
       "<table border=\"1\" class=\"dataframe\">\n",
       "  <thead>\n",
       "    <tr style=\"text-align: right;\">\n",
       "      <th>Champs</th>\n",
       "      <th>Riven</th>\n",
       "    </tr>\n",
       "  </thead>\n",
       "  <tbody>\n",
       "    <tr>\n",
       "      <th>Garen_Win_Rate</th>\n",
       "      <td>0.5217</td>\n",
       "    </tr>\n",
       "    <tr>\n",
       "      <th>Pantheon_Win_Rate</th>\n",
       "      <td>0.4889</td>\n",
       "    </tr>\n",
       "    <tr>\n",
       "      <th>Trundle_Win_Rate</th>\n",
       "      <td>0.4833</td>\n",
       "    </tr>\n",
       "    <tr>\n",
       "      <th>Darius_Win_Rate</th>\n",
       "      <td>0.4777</td>\n",
       "    </tr>\n",
       "    <tr>\n",
       "      <th>Mordekaiser_Win_Rate</th>\n",
       "      <td>0.4699</td>\n",
       "    </tr>\n",
       "    <tr>\n",
       "      <th>Dr. Mundo_Win_Rate</th>\n",
       "      <td>0.4587</td>\n",
       "    </tr>\n",
       "  </tbody>\n",
       "</table>\n",
       "</div>"
      ]
     },
     "metadata": {},
     "execution_count": 3
    }
   ],
   "metadata": {
    "scrolled": true
   }
  },
  {
   "cell_type": "code",
   "execution_count": 7,
   "source": [
    "x = counter_pick('Gnar',champ_pool=['Darius','Garen','Dr. Mundo','Mordekaiser','Fiora','Trundle'])"
   ],
   "outputs": [],
   "metadata": {}
  },
  {
   "cell_type": "code",
   "execution_count": null,
   "source": [],
   "outputs": [],
   "metadata": {}
  },
  {
   "cell_type": "code",
   "execution_count": null,
   "source": [],
   "outputs": [],
   "metadata": {}
  },
  {
   "cell_type": "code",
   "execution_count": null,
   "source": [],
   "outputs": [],
   "metadata": {}
  },
  {
   "cell_type": "code",
   "execution_count": null,
   "source": [],
   "outputs": [],
   "metadata": {}
  }
 ],
 "metadata": {
  "kernelspec": {
   "name": "python3",
   "display_name": "Python 3.8.5 64-bit ('base': conda)"
  },
  "language_info": {
   "codemirror_mode": {
    "name": "ipython",
    "version": 3
   },
   "file_extension": ".py",
   "mimetype": "text/x-python",
   "name": "python",
   "nbconvert_exporter": "python",
   "pygments_lexer": "ipython3",
   "version": "3.8.5"
  },
  "interpreter": {
   "hash": "8003219c8c57211ee3be347d121ba14ebad7276cdae3d94be72d9e4e17f9edd5"
  }
 },
 "nbformat": 4,
 "nbformat_minor": 4
}